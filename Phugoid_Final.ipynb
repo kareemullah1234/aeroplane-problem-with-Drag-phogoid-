{
 "cells": [
  {
   "cell_type": "code",
   "execution_count": 122,
   "metadata": {},
   "outputs": [],
   "source": [
    "import math\n",
    "import numpy\n",
    "from matplotlib import pyplot\n",
    "%matplotlib inline"
   ]
  },
  {
   "cell_type": "code",
   "execution_count": 123,
   "metadata": {},
   "outputs": [],
   "source": [
    "pyplot.rcParams['font.family'] ='serif'\n",
    "pyplot.rcParams['font.size'] = '16'"
   ]
  },
  {
   "cell_type": "code",
   "execution_count": 124,
   "metadata": {},
   "outputs": [],
   "source": [
    "g =9.81\n",
    "vt = 30.0\n",
    "CD = 1.0/40\n",
    "CL = 1.0\n",
    "\n",
    "v0 =vt\n",
    "\n",
    "theta0 = 0.0 # trajectory angle\n",
    "\n",
    "x0 =0.0  #horizontal position\n",
    "\n",
    "y0 = 1000.0 # vertical position\n",
    "\n"
   ]
  },
  {
   "cell_type": "code",
   "execution_count": 150,
   "metadata": {},
   "outputs": [],
   "source": [
    "def rhs_phugoid(u,CL,CD,g,vt):\n",
    "    v,theta,x,y =u\n",
    "    rhs = numpy.array([-g * math.sin(theta) -CD/CL * g/vt**2 * v**2,\n",
    "                        -g * math.cos(theta)/v+g/vt**2 * v, \n",
    "                        v* math.cos(theta),\n",
    "                        v* math.sin(theta)])\n",
    "    #print('for rhs_phugoid function =',u)\n",
    "    \n",
    "    return rhs"
   ]
  },
  {
   "cell_type": "code",
   "execution_count": 151,
   "metadata": {},
   "outputs": [],
   "source": [
    "def euler_step(u,f,dt,*args):\n",
    "    unew =u + dt * f(u, *args)\n",
    "    #print('for euler final step unew=',len(unew))\n",
    "    return unew"
   ]
  },
  {
   "cell_type": "code",
   "execution_count": 153,
   "metadata": {
    "scrolled": true
   },
   "outputs": [
    {
     "name": "stdout",
     "output_type": "stream",
     "text": [
      "N= 11\n",
      "n= 0\n",
      "n= 1\n",
      "n= 2\n",
      "n= 3\n",
      "n= 4\n",
      "n= 5\n",
      "n= 6\n",
      "n= 7\n",
      "n= 8\n",
      "n= 9\n"
     ]
    }
   ],
   "source": [
    "T = 1.0\n",
    "dt = 0.1\n",
    "N = int(T/dt) + 1\n",
    "print('N=',N)\n",
    "u = numpy.empty((N,4))     \n",
    "u[0] = numpy.array([v0,theta0,x0,y0])\n",
    "for n in range(N-1):\n",
    "    print('n=',n)\n",
    "    u[n+1] = euler_step(u[n],rhs_phugoid,dt,CL,CD,g,vt) "
   ]
  },
  {
   "cell_type": "code",
   "execution_count": 154,
   "metadata": {},
   "outputs": [
    {
     "name": "stdout",
     "output_type": "stream",
     "text": [
      "x= [ 0.          3.          5.9975475   8.9926465  11.98530623 14.97554106\n",
      " 17.96337051 20.94881916 23.93191659 26.91269728 29.89120055]\n",
      "y= [1000.         1000.         1000.          999.9998398   999.99935973\n",
      "  999.99840098  999.99680592  999.99441847  999.99108439  999.98665162\n",
      "  999.9809706 ]\n"
     ]
    }
   ],
   "source": [
    "x = u[:,2]\n",
    "y = u[:,3]\n",
    "print('x=',u[:,2])\n",
    "print('y=',u[:,3])"
   ]
  },
  {
   "cell_type": "code",
   "execution_count": 155,
   "metadata": {},
   "outputs": [
    {
     "data": {
      "text/plain": [
       "[<matplotlib.lines.Line2D at 0xbf57f2f0f0>]"
      ]
     },
     "execution_count": 155,
     "metadata": {},
     "output_type": "execute_result"
    },
    {
     "data": {
      "image/png": "[encoded data removed]",
      "text/plain": [
       "<Figure size 648x288 with 1 Axes>"
      ]
     },
     "metadata": {
      "needs_background": "light"
     },
     "output_type": "display_data"
    }
   ],
   "source": [
    "pyplot.figure(figsize=(9.0,4.0))\n",
    "pyplot.title('path o fthe glider(flight time ={})'.format(T))\n",
    "pyplot.xlabel('x')\n",
    "pyplot.ylabel('y')\n",
    "pyplot.grid()\n",
    "pyplot.plot(x,y,color='C0',linestyle='-',linewidth=2)"
   ]
  },
  {
   "cell_type": "code",
   "execution_count": 158,
   "metadata": {},
   "outputs": [
    {
     "name": "stdout",
     "output_type": "stream",
     "text": [
      "for time step dt value (i)  = 0.1\n",
      "for time step dt value (i)  = 0.05\n",
      "for time step dt value (i)  = 0.01\n",
      "for time step dt value (i)  = 0.005\n",
      "for time step dt value (i)  = 0.001\n"
     ]
    }
   ],
   "source": [
    "dt_values= [0.1,0.05,0.01,0.005,0.001]\n",
    "u_values= []\n",
    "\n",
    "for dt in dt_values:\n",
    "    N = int(T/dt) +1\n",
    "    u =numpy.empty((N,4))\n",
    "    u[0] = numpy.array([v0,theta0,x0,y0])\n",
    "    print('for time step dt value (i)  =',dt)\n",
    "    for n in range(N-1):\n",
    "        u[n+1] = euler_step(u[n],rhs_phugoid,dt,CL,CD,g,vt)\n",
    "        \n",
    "    u_values.append(u) \n",
    "    \n",
    "    #print('u_values=',u_values)"
   ]
  },
  {
   "cell_type": "code",
   "execution_count": 159,
   "metadata": {},
   "outputs": [],
   "source": [
    "def l1_diff(u_coarse,u_fine,dt):\n",
    "    N_coarse=len(u_coarse)\n",
    "    print('number of coarse=',len(u_coarse))\n",
    "    print('number of fine=',len(u_fine))\n",
    "    N_fine = len(u_fine)\n",
    "    ratio = math.ceil(N_fine/N_coarse)\n",
    "    print('ratio = ',ratio)\n",
    "    diff = dt * numpy.sum(numpy.abs(u_coarse- u_fine[::ratio]))\n",
    "    return diff"
   ]
  },
  {
   "cell_type": "code",
   "execution_count": 161,
   "metadata": {},
   "outputs": [
    {
     "name": "stdout",
     "output_type": "stream",
     "text": [
      "i is = 0\n",
      "dt is = 0.1\n",
      "number of coarse= 11\n",
      "number of fine= 1001\n",
      "ratio =  91\n",
      "diff 1.4834166443483743\n",
      "i is = 1\n",
      "dt is = 0.05\n",
      "number of coarse= 21\n",
      "number of fine= 1001\n",
      "ratio =  48\n",
      "diff 0.6296154209047602\n",
      "i is = 2\n",
      "dt is = 0.01\n",
      "number of coarse= 101\n",
      "number of fine= 1001\n",
      "ratio =  10\n",
      "diff 0.000522762483001773\n",
      "i is = 3\n",
      "dt is = 0.005\n",
      "number of coarse= 201\n",
      "number of fine= 1001\n",
      "ratio =  5\n",
      "diff 0.0002310929055641596\n"
     ]
    }
   ],
   "source": [
    "diff_values = []\n",
    "\n",
    "for i,dt in enumerate(dt_values[:-1]):\n",
    "    print('i is =',i)\n",
    "    print('dt is =',dt)\n",
    "    \n",
    "    \n",
    "    diff = l1_diff(u_values[i][:,2], u_values[-1][:,2],dt)\n",
    "    diff_values.append(diff)\n",
    "    print('diff',diff)"
   ]
  },
  {
   "cell_type": "code",
   "execution_count": 170,
   "metadata": {},
   "outputs": [
    {
     "data": {
      "text/plain": [
       "(0.004304458296658671,\n",
       " 0.11615863496415421,\n",
       " 0.00014907773521254607,\n",
       " 2.29951885179868)"
      ]
     },
     "execution_count": 170,
     "metadata": {},
     "output_type": "execute_result"
    },
    {
     "data": {
      "image/png": "[encoded data removed]",
      "text/plain": [
       "<Figure size 432x432 with 1 Axes>"
      ]
     },
     "metadata": {
      "needs_background": "light"
     },
     "output_type": "display_data"
    }
   ],
   "source": [
    "pyplot.figure(figsize=(6.0,6.0))\n",
    "pyplot.title('L1-norm difference vs time-step size')\n",
    "pyplot.xlabel('$\\Delta t$')\n",
    "pyplot.ylabel('Difference')\n",
    "pyplot.grid()\n",
    "pyplot.loglog(dt_values[:-1],diff_values,color='C0',linestyle='--',marker='o')\n",
    "pyplot.axis('equal')"
   ]
  },
  {
   "cell_type": "code",
   "execution_count": null,
   "metadata": {},
   "outputs": [],
   "source": []
  }
 ],
 "metadata": {
  "kernelspec": {
   "display_name": "Python 3",
   "language": "python",
   "name": "python3"
  },
  "language_info": {
   "codemirror_mode": {
    "name": "ipython",
    "version": 3
   },
   "file_extension": ".py",
   "mimetype": "text/x-python",
   "name": "python",
   "nbconvert_exporter": "python",
   "pygments_lexer": "ipython3",
   "version": "3.7.3"
  }
 },
 "nbformat": 4,
 "nbformat_minor": 2
}
